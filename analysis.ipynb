{
 "cells": [
  {
   "cell_type": "code",
   "execution_count": 2,
   "metadata": {},
   "outputs": [],
   "source": [
    "import pandas as pd\n",
    "import geopandas as gpd\n",
    "from shapely.geometry import Point"
   ]
  },
  {
   "cell_type": "code",
   "execution_count": 3,
   "metadata": {},
   "outputs": [],
   "source": [
    "#Read datasets\n",
    "uk_accidents = pd.read_csv('data/uk_accidents/Accident_Information.tar.xz', low_memory=False)"
   ]
  },
  {
   "cell_type": "code",
   "execution_count": 4,
   "metadata": {},
   "outputs": [],
   "source": [
    "\n",
    "# Convert Long Lat into numeric type\n",
    "uk_accidents['Longitude'] = pd.to_numeric(uk_accidents['Longitude'])\n",
    "uk_accidents['Latitude'] = pd.to_numeric(uk_accidents['Latitude'])\n",
    "\n",
    "\n",
    "#  Convert Longitude Latitude into Point Geometry\n",
    "uk_accidents = gpd.GeoDataFrame(uk_accidents, geometry = gpd.points_from_xy(x=uk_accidents['Longitude'], y=uk_accidents['Latitude']))\n",
    "uk_accidents = uk_accidents.set_crs('EPSG:4326')\n",
    "\n",
    "# Remove invalid geometries if any\n",
    "uk_accidents = uk_accidents[uk_accidents.is_valid]\n",
    "uk_accidents = uk_accidents[~uk_accidents.is_empty]\n",
    "uk_accidents = uk_accidents.to_crs('EPSG:3857')\n"
   ]
  },
  {
   "cell_type": "code",
   "execution_count": 6,
   "metadata": {},
   "outputs": [],
   "source": [
    "# Perform spatial queries, such as finding accidents within a certain distance from a specific location:\n",
    "\n",
    "# Creating a sample point\n",
    "point = Point((-13411.1, 6711284.0))\n",
    "\n",
    "# Creating a buffer of 1 KM around the point\n",
    "buffer = point.buffer(1000)\n",
    "\n",
    "within_buffer = uk_accidents[uk_accidents.within(buffer)]\n"
   ]
  },
  {
   "cell_type": "code",
   "execution_count": 9,
   "metadata": {},
   "outputs": [],
   "source": [
    "# Load the administrative regions shapefile\n",
    "uk_admins = gpd.read_file('data/uk_admin_region/uk_admins_region.shp')\n",
    "uk_admins = uk_admins.to_crs('EPSG:3857')\n",
    "\n",
    "# Perform a spatial join between the accidents GeoDataFrame and the administrative regions shapefile\n",
    "merged = gpd.sjoin(uk_accidents, uk_admins, how=\"inner\", predicate='within')\n",
    "\n",
    "# Group the merged GeoDataFrame by the administrative region and count the number of accidents in each region\n",
    "grouped = merged.groupby('ADMIN_REGI').count()['Accident_Index']\n"
   ]
  },
  {
   "cell_type": "code",
   "execution_count": 12,
   "metadata": {},
   "outputs": [
    {
     "data": {
      "text/html": [
       "<div>\n",
       "<style scoped>\n",
       "    .dataframe tbody tr th:only-of-type {\n",
       "        vertical-align: middle;\n",
       "    }\n",
       "\n",
       "    .dataframe tbody tr th {\n",
       "        vertical-align: top;\n",
       "    }\n",
       "\n",
       "    .dataframe thead th {\n",
       "        text-align: right;\n",
       "    }\n",
       "</style>\n",
       "<table border=\"1\" class=\"dataframe\">\n",
       "  <thead>\n",
       "    <tr style=\"text-align: right;\">\n",
       "      <th></th>\n",
       "      <th>Accident_Index</th>\n",
       "      <th>Accident_Severity</th>\n",
       "      <th>ADMIN_REGI</th>\n",
       "    </tr>\n",
       "  </thead>\n",
       "  <tbody>\n",
       "    <tr>\n",
       "      <th>0</th>\n",
       "      <td>200501BS00001</td>\n",
       "      <td>Serious</td>\n",
       "      <td>Kensington and Chelsea</td>\n",
       "    </tr>\n",
       "    <tr>\n",
       "      <th>1</th>\n",
       "      <td>200501BS00002</td>\n",
       "      <td>Slight</td>\n",
       "      <td>Kensington and Chelsea</td>\n",
       "    </tr>\n",
       "    <tr>\n",
       "      <th>3</th>\n",
       "      <td>200501BS00004</td>\n",
       "      <td>Slight</td>\n",
       "      <td>Kensington and Chelsea</td>\n",
       "    </tr>\n",
       "    <tr>\n",
       "      <th>5</th>\n",
       "      <td>200501BS00006</td>\n",
       "      <td>Slight</td>\n",
       "      <td>Kensington and Chelsea</td>\n",
       "    </tr>\n",
       "    <tr>\n",
       "      <th>6</th>\n",
       "      <td>200501BS00007</td>\n",
       "      <td>Slight</td>\n",
       "      <td>Kensington and Chelsea</td>\n",
       "    </tr>\n",
       "    <tr>\n",
       "      <th>...</th>\n",
       "      <td>...</td>\n",
       "      <td>...</td>\n",
       "      <td>...</td>\n",
       "    </tr>\n",
       "    <tr>\n",
       "      <th>2047015</th>\n",
       "      <td>201797UD71011</td>\n",
       "      <td>Serious</td>\n",
       "      <td>South Ayrshire</td>\n",
       "    </tr>\n",
       "    <tr>\n",
       "      <th>2047016</th>\n",
       "      <td>201797UD71101</td>\n",
       "      <td>Slight</td>\n",
       "      <td>South Ayrshire</td>\n",
       "    </tr>\n",
       "    <tr>\n",
       "      <th>2047017</th>\n",
       "      <td>201797UD71103</td>\n",
       "      <td>Serious</td>\n",
       "      <td>South Ayrshire</td>\n",
       "    </tr>\n",
       "    <tr>\n",
       "      <th>2047018</th>\n",
       "      <td>201797UD71106</td>\n",
       "      <td>Slight</td>\n",
       "      <td>South Ayrshire</td>\n",
       "    </tr>\n",
       "    <tr>\n",
       "      <th>2047019</th>\n",
       "      <td>201797UD71111</td>\n",
       "      <td>Fatal</td>\n",
       "      <td>South Ayrshire</td>\n",
       "    </tr>\n",
       "  </tbody>\n",
       "</table>\n",
       "<p>2046256 rows × 3 columns</p>\n",
       "</div>"
      ],
      "text/plain": [
       "        Accident_Index Accident_Severity              ADMIN_REGI\n",
       "0        200501BS00001           Serious  Kensington and Chelsea\n",
       "1        200501BS00002            Slight  Kensington and Chelsea\n",
       "3        200501BS00004            Slight  Kensington and Chelsea\n",
       "5        200501BS00006            Slight  Kensington and Chelsea\n",
       "6        200501BS00007            Slight  Kensington and Chelsea\n",
       "...                ...               ...                     ...\n",
       "2047015  201797UD71011           Serious          South Ayrshire\n",
       "2047016  201797UD71101            Slight          South Ayrshire\n",
       "2047017  201797UD71103           Serious          South Ayrshire\n",
       "2047018  201797UD71106            Slight          South Ayrshire\n",
       "2047019  201797UD71111             Fatal          South Ayrshire\n",
       "\n",
       "[2046256 rows x 3 columns]"
      ]
     },
     "execution_count": 12,
     "metadata": {},
     "output_type": "execute_result"
    }
   ],
   "source": [
    "merged[['Accident_Index', 'Accident_Severity', 'ADMIN_REGI']]"
   ]
  },
  {
   "cell_type": "code",
   "execution_count": 13,
   "metadata": {},
   "outputs": [
    {
     "data": {
      "text/plain": [
       "ADMIN_REGI\n",
       "Aberdeen            4476\n",
       "Aberdeenshire       6503\n",
       "Anglesey            1285\n",
       "Angus               2492\n",
       "Argyll and Bute     3147\n",
       "                   ...  \n",
       "Westminster        20826\n",
       "Wiltshire          14410\n",
       "Worcestershire     16784\n",
       "Wrexham             3999\n",
       "York                6217\n",
       "Name: Accident_Index, Length: 166, dtype: int64"
      ]
     },
     "execution_count": 13,
     "metadata": {},
     "output_type": "execute_result"
    }
   ],
   "source": [
    "grouped"
   ]
  },
  {
   "cell_type": "code",
   "execution_count": null,
   "metadata": {},
   "outputs": [],
   "source": []
  }
 ],
 "metadata": {
  "kernelspec": {
   "display_name": "Python 3.10.6 ('spatial-dev.guru')",
   "language": "python",
   "name": "python3"
  },
  "language_info": {
   "codemirror_mode": {
    "name": "ipython",
    "version": 3
   },
   "file_extension": ".py",
   "mimetype": "text/x-python",
   "name": "python",
   "nbconvert_exporter": "python",
   "pygments_lexer": "ipython3",
   "version": "3.10.6"
  },
  "orig_nbformat": 4,
  "vscode": {
   "interpreter": {
    "hash": "8aa6de2e5a032dead750ab93109da7771c928f809cd475e8a8ca065cbefa9659"
   }
  }
 },
 "nbformat": 4,
 "nbformat_minor": 2
}
